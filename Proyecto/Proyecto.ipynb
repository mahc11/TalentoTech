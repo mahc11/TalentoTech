{
  "nbformat": 4,
  "nbformat_minor": 0,
  "metadata": {
    "colab": {
      "provenance": [],
      "toc_visible": true
    },
    "kernelspec": {
      "name": "python3",
      "display_name": "Python 3"
    },
    "language_info": {
      "name": "python"
    }
  },
  "cells": [
    {
      "cell_type": "markdown",
      "source": [
        "**Modelo de Clasificación Con Machine Learning y Red Neuronal para optimización de productividad en el CD Falabella Colombia**"
      ],
      "metadata": {
        "id": "K6bdxdi7SgJv"
      }
    },
    {
      "cell_type": "markdown",
      "source": [
        "## Tabla de Contenido\n",
        "\n",
        "1. [Planteamiento del Problema](#planteamiento-del-problema)\n",
        "2. [Objetivos](#objetivos)\n",
        "3. [Dataset](#dataset)"
      ],
      "metadata": {
        "id": "IlfPSyitX0rB"
      }
    },
    {
      "cell_type": "markdown",
      "source": [
        "# **Planteamiento Del Problema**\n",
        "\n",
        "**Optimización del Alistamiento de Pedidos en Falabella Retail Colombia**\n",
        "\n",
        "Actualmente, en Falabella Retail Colombia, el centro de distribución ubicado en las afueras de Bogotá es el corazón de las operaciones logísticas, encargado de gestionar la distribución de productos tanto para las ventas físicas en los almacenes de todo el país como para los pedidos realizados a través del canal E-commerce. Sin embargo, el proceso de alistamiento de pedidos presenta desafíos significativos en términos de tiempo y eficiencia, lo que afecta directamente la productividad operativa y la capacidad de la empresa para cumplir con las promesas de entrega a los clientes. La creciente demanda de productos, especialmente en el comercio electrónico, exige una reducción en el tiempo de alistamiento con el fin de mejorar la competitividad, optimizar los recursos disponibles y garantizar una experiencia satisfactoria para los clientes.\n",
        "\n",
        "El alistamiento de pedidos, que implica la preparación y el empaquetado de los productos solicitados por los clientes, involucra la coordinación de diversos factores logísticos, como la ubicación de los productos en el almacén, la disponibilidad de inventarios y la asignación de personal, así como de vehículos para la distribución. La variabilidad en estos factores, sumada a las fluctuaciones en la demanda y los tiempos de respuesta de los sistemas de gestión, puede generar cuellos de botella que afectan el rendimiento general de las operaciones.\n",
        "\n",
        "El sistema actual contratado para la gestión de almacenamiento y despacho no cuenta con un proceso de optimización de los recorridos realizados por los operadores, tomando en cuenta la ubicación de los productos a despachar y su disponibilidad en el inventario. Esta falta de optimización se debe a las limitaciones de rendimiento del sistema y su diseño inicial. Como consecuencia, los operarios realizan recorridos innecesarios y, en algunos casos, excesivamente largos dentro del centro de distribución. Esto incrementa el tiempo de alistamiento, genera ineficiencias en el uso de los recursos y afecta la puntualidad de las entregas.\n",
        "\n",
        "Para abordar este problema, se propone desarrollar e implementar un modelo de clasificación basado en redes neuronales, que optimice el proceso de alistamiento de pedidos, en comparación con un modelo de clustering basado en Machine Learning. El objetivo es reorganizar los pedidos y agruparlos de manera que se minimicen al máximo las distancias recorridas por los operarios, optimizando así los tiempos de alistamiento y mejorando la productividad del personal operativo.\n"
      ],
      "metadata": {
        "id": "btcE9oPISopI"
      }
    },
    {
      "cell_type": "markdown",
      "source": [
        "# **Objetivos**\n",
        "\n",
        "1. **Optimizar el tiempo de alistamiento de pedidos**: Reducir los tiempos de recorrido dentro del centro de distribución mediante la clasificación y reorganización de los productos, de manera que los operarios puedan acceder a ellos de forma más eficiente y rápida.\n",
        "\n",
        "2. **Mejorar la productividad del personal operativo:** Minimizar el tiempo muerto durante los recorridos al reducir la distancia que el personal tiene que recorrer para alistar los productos, lo que aumentará la cantidad de pedidos procesados en el mismo periodo de tiempo.\n",
        "\n",
        "3. **Reorganizar los pedidos mediante un modelo predictivo**: Utilizar un modelo de clasificación por red neuronal para reorganizar los pedidos generados por el sistema actual, con base en la proximidad de los productos y los recorridos dentro del almacén. Este modelo ayudará a clasificar los productos de tal forma que se minimicen los tiempos de desplazamiento y se maximicen los tiempos de productividad.\n",
        "\n",
        "4. **Mejorar la promesa de entrega**: Al optimizar el proceso de alistamiento, la empresa podrá garantizar tiempos de entrega más rápidos y confiables a los clientes, lo que contribuirá a mejorar la experiencia del cliente y la competitividad de la marca.\n",
        "\n",
        "5. **Desarrollar una solución escalable y sostenible**: Crear un sistema que pueda ser escalado a diferentes centros de distribución y adaptado a futuros aumentos en la demanda, mejorando continuamente la eficiencia de los procesos logísticos."
      ],
      "metadata": {
        "id": "ggyVU6O5Ylwg"
      }
    },
    {
      "cell_type": "markdown",
      "source": [
        "# **Dataset**\n",
        "\n"
      ],
      "metadata": {
        "id": "Ak2rxmacZX-2"
      }
    }
  ]
}